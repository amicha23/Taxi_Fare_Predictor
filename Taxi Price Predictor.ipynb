{
 "cells": [
  {
   "cell_type": "markdown",
   "metadata": {},
   "source": [
    "# Overview\n",
    "Predict the fare amount (inclusive of tolls) for a taxi ride in New York City given the pickup and dropoff locations"
   ]
  },
  {
   "cell_type": "markdown",
   "metadata": {},
   "source": [
    "## Load Libraries\n",
    "Import the necessary libraries."
   ]
  },
  {
   "cell_type": "code",
   "execution_count": 1,
   "metadata": {},
   "outputs": [],
   "source": [
    "import pandas as pd\n",
    "import numpy as np\n",
    "from sklearn.model_selection import train_test_split\n",
    "from sklearn.impute import SimpleImputer\n",
    "from sklearn.ensemble import RandomForestRegressor\n",
    "from sklearn.metrics import mean_absolute_error, mean_squared_error, r2_score\n",
    "from sklearn import metrics\n",
    "from sklearn.model_selection import cross_val_score\n",
    "import matplotlib.pyplot as plt\n",
    "%matplotlib inline"
   ]
  },
  {
   "cell_type": "markdown",
   "metadata": {},
   "source": [
    "## Load Data\n",
    "Load the data into Pandas dataframes. Describe the training data."
   ]
  },
  {
   "cell_type": "code",
   "execution_count": 2,
   "metadata": {},
   "outputs": [],
   "source": [
    "#Read training data\n",
    "X = pd.read_csv(\"train4.csv\", index_col='key')\n",
    "\n",
    "#Test data\n",
    "X_test = pd.read_csv(\"test.csv\", index_col='key')"
   ]
  },
  {
   "cell_type": "code",
   "execution_count": 4,
   "metadata": {},
   "outputs": [
    {
     "data": {
      "text/html": [
       "<div>\n",
       "<style scoped>\n",
       "    .dataframe tbody tr th:only-of-type {\n",
       "        vertical-align: middle;\n",
       "    }\n",
       "\n",
       "    .dataframe tbody tr th {\n",
       "        vertical-align: top;\n",
       "    }\n",
       "\n",
       "    .dataframe thead th {\n",
       "        text-align: right;\n",
       "    }\n",
       "</style>\n",
       "<table border=\"1\" class=\"dataframe\">\n",
       "  <thead>\n",
       "    <tr style=\"text-align: right;\">\n",
       "      <th></th>\n",
       "      <th>fare_amount</th>\n",
       "      <th>pickup_datetime</th>\n",
       "      <th>pickup_longitude</th>\n",
       "      <th>pickup_latitude</th>\n",
       "      <th>dropoff_longitude</th>\n",
       "      <th>dropoff_latitude</th>\n",
       "      <th>passenger_count</th>\n",
       "    </tr>\n",
       "    <tr>\n",
       "      <th>key</th>\n",
       "      <th></th>\n",
       "      <th></th>\n",
       "      <th></th>\n",
       "      <th></th>\n",
       "      <th></th>\n",
       "      <th></th>\n",
       "      <th></th>\n",
       "    </tr>\n",
       "  </thead>\n",
       "  <tbody>\n",
       "    <tr>\n",
       "      <th>26:21.0</th>\n",
       "      <td>4.5</td>\n",
       "      <td>2009-06-15 17:26:21 UTC</td>\n",
       "      <td>-73.844311</td>\n",
       "      <td>40.721319</td>\n",
       "      <td>-73.841610</td>\n",
       "      <td>40.712278</td>\n",
       "      <td>1</td>\n",
       "    </tr>\n",
       "    <tr>\n",
       "      <th>52:16.0</th>\n",
       "      <td>16.9</td>\n",
       "      <td>2010-01-05 16:52:16 UTC</td>\n",
       "      <td>-74.016048</td>\n",
       "      <td>40.711303</td>\n",
       "      <td>-73.979268</td>\n",
       "      <td>40.782004</td>\n",
       "      <td>1</td>\n",
       "    </tr>\n",
       "    <tr>\n",
       "      <th>35:00.0</th>\n",
       "      <td>5.7</td>\n",
       "      <td>2011-08-18 00:35:00 UTC</td>\n",
       "      <td>-73.982738</td>\n",
       "      <td>40.761270</td>\n",
       "      <td>-73.991242</td>\n",
       "      <td>40.750562</td>\n",
       "      <td>2</td>\n",
       "    </tr>\n",
       "    <tr>\n",
       "      <th>30:42.0</th>\n",
       "      <td>7.7</td>\n",
       "      <td>2012-04-21 04:30:42 UTC</td>\n",
       "      <td>-73.987130</td>\n",
       "      <td>40.733143</td>\n",
       "      <td>-73.991567</td>\n",
       "      <td>40.758092</td>\n",
       "      <td>1</td>\n",
       "    </tr>\n",
       "    <tr>\n",
       "      <th>51:00.0</th>\n",
       "      <td>5.3</td>\n",
       "      <td>2010-03-09 07:51:00 UTC</td>\n",
       "      <td>-73.968095</td>\n",
       "      <td>40.768008</td>\n",
       "      <td>-73.956655</td>\n",
       "      <td>40.783762</td>\n",
       "      <td>1</td>\n",
       "    </tr>\n",
       "    <tr>\n",
       "      <th>50:45.0</th>\n",
       "      <td>12.1</td>\n",
       "      <td>2011-01-06 09:50:45 UTC</td>\n",
       "      <td>-74.000964</td>\n",
       "      <td>40.731630</td>\n",
       "      <td>-73.972892</td>\n",
       "      <td>40.758233</td>\n",
       "      <td>1</td>\n",
       "    </tr>\n",
       "    <tr>\n",
       "      <th>35:00.0</th>\n",
       "      <td>7.5</td>\n",
       "      <td>2012-11-20 20:35:00 UTC</td>\n",
       "      <td>-73.980002</td>\n",
       "      <td>40.751662</td>\n",
       "      <td>-73.973802</td>\n",
       "      <td>40.764842</td>\n",
       "      <td>1</td>\n",
       "    </tr>\n",
       "    <tr>\n",
       "      <th>22:00.0</th>\n",
       "      <td>16.5</td>\n",
       "      <td>2012-01-04 17:22:00 UTC</td>\n",
       "      <td>-73.951300</td>\n",
       "      <td>40.774138</td>\n",
       "      <td>-73.990095</td>\n",
       "      <td>40.751048</td>\n",
       "      <td>1</td>\n",
       "    </tr>\n",
       "    <tr>\n",
       "      <th>10:00.0</th>\n",
       "      <td>9.0</td>\n",
       "      <td>2012-12-03 13:10:00 UTC</td>\n",
       "      <td>-74.006462</td>\n",
       "      <td>40.726713</td>\n",
       "      <td>-73.993078</td>\n",
       "      <td>40.731628</td>\n",
       "      <td>1</td>\n",
       "    </tr>\n",
       "    <tr>\n",
       "      <th>11:00.0</th>\n",
       "      <td>8.9</td>\n",
       "      <td>2009-09-02 01:11:00 UTC</td>\n",
       "      <td>-73.980658</td>\n",
       "      <td>40.733873</td>\n",
       "      <td>-73.991540</td>\n",
       "      <td>40.758138</td>\n",
       "      <td>2</td>\n",
       "    </tr>\n",
       "  </tbody>\n",
       "</table>\n",
       "</div>"
      ],
      "text/plain": [
       "         fare_amount          pickup_datetime  pickup_longitude  \\\n",
       "key                                                               \n",
       "26:21.0          4.5  2009-06-15 17:26:21 UTC        -73.844311   \n",
       "52:16.0         16.9  2010-01-05 16:52:16 UTC        -74.016048   \n",
       "35:00.0          5.7  2011-08-18 00:35:00 UTC        -73.982738   \n",
       "30:42.0          7.7  2012-04-21 04:30:42 UTC        -73.987130   \n",
       "51:00.0          5.3  2010-03-09 07:51:00 UTC        -73.968095   \n",
       "50:45.0         12.1  2011-01-06 09:50:45 UTC        -74.000964   \n",
       "35:00.0          7.5  2012-11-20 20:35:00 UTC        -73.980002   \n",
       "22:00.0         16.5  2012-01-04 17:22:00 UTC        -73.951300   \n",
       "10:00.0          9.0  2012-12-03 13:10:00 UTC        -74.006462   \n",
       "11:00.0          8.9  2009-09-02 01:11:00 UTC        -73.980658   \n",
       "\n",
       "         pickup_latitude  dropoff_longitude  dropoff_latitude  passenger_count  \n",
       "key                                                                             \n",
       "26:21.0        40.721319         -73.841610         40.712278                1  \n",
       "52:16.0        40.711303         -73.979268         40.782004                1  \n",
       "35:00.0        40.761270         -73.991242         40.750562                2  \n",
       "30:42.0        40.733143         -73.991567         40.758092                1  \n",
       "51:00.0        40.768008         -73.956655         40.783762                1  \n",
       "50:45.0        40.731630         -73.972892         40.758233                1  \n",
       "35:00.0        40.751662         -73.973802         40.764842                1  \n",
       "22:00.0        40.774138         -73.990095         40.751048                1  \n",
       "10:00.0        40.726713         -73.993078         40.731628                1  \n",
       "11:00.0        40.733873         -73.991540         40.758138                2  "
      ]
     },
     "execution_count": 4,
     "metadata": {},
     "output_type": "execute_result"
    }
   ],
   "source": [
    "X.head(10)"
   ]
  },
  {
   "cell_type": "code",
   "execution_count": 5,
   "metadata": {},
   "outputs": [
    {
     "data": {
      "text/plain": [
       "(9914, 7)"
      ]
     },
     "execution_count": 5,
     "metadata": {},
     "output_type": "execute_result"
    }
   ],
   "source": [
    "X.shape"
   ]
  },
  {
   "cell_type": "code",
   "execution_count": 59,
   "metadata": {},
   "outputs": [
    {
     "data": {
      "text/html": [
       "<div>\n",
       "<style scoped>\n",
       "    .dataframe tbody tr th:only-of-type {\n",
       "        vertical-align: middle;\n",
       "    }\n",
       "\n",
       "    .dataframe tbody tr th {\n",
       "        vertical-align: top;\n",
       "    }\n",
       "\n",
       "    .dataframe thead th {\n",
       "        text-align: right;\n",
       "    }\n",
       "</style>\n",
       "<table border=\"1\" class=\"dataframe\">\n",
       "  <thead>\n",
       "    <tr style=\"text-align: right;\">\n",
       "      <th></th>\n",
       "      <th>pickup_longitude</th>\n",
       "      <th>pickup_latitude</th>\n",
       "      <th>dropoff_longitude</th>\n",
       "      <th>dropoff_latitude</th>\n",
       "      <th>passenger_count</th>\n",
       "    </tr>\n",
       "  </thead>\n",
       "  <tbody>\n",
       "    <tr>\n",
       "      <th>count</th>\n",
       "      <td>9914.000000</td>\n",
       "      <td>9914.000000</td>\n",
       "      <td>9914.000000</td>\n",
       "      <td>9914.000000</td>\n",
       "      <td>9914.000000</td>\n",
       "    </tr>\n",
       "    <tr>\n",
       "      <th>mean</th>\n",
       "      <td>-72.453558</td>\n",
       "      <td>39.913186</td>\n",
       "      <td>-72.461136</td>\n",
       "      <td>39.885780</td>\n",
       "      <td>1.645552</td>\n",
       "    </tr>\n",
       "    <tr>\n",
       "      <th>std</th>\n",
       "      <td>10.654715</td>\n",
       "      <td>7.350194</td>\n",
       "      <td>10.624606</td>\n",
       "      <td>6.366846</td>\n",
       "      <td>1.272293</td>\n",
       "    </tr>\n",
       "    <tr>\n",
       "      <th>min</th>\n",
       "      <td>-74.438233</td>\n",
       "      <td>-74.006893</td>\n",
       "      <td>-74.429332</td>\n",
       "      <td>-73.994392</td>\n",
       "      <td>0.000000</td>\n",
       "    </tr>\n",
       "    <tr>\n",
       "      <th>25%</th>\n",
       "      <td>-73.992056</td>\n",
       "      <td>40.734516</td>\n",
       "      <td>-73.991112</td>\n",
       "      <td>40.735169</td>\n",
       "      <td>1.000000</td>\n",
       "    </tr>\n",
       "    <tr>\n",
       "      <th>50%</th>\n",
       "      <td>-73.981768</td>\n",
       "      <td>40.752633</td>\n",
       "      <td>-73.980107</td>\n",
       "      <td>40.753685</td>\n",
       "      <td>1.000000</td>\n",
       "    </tr>\n",
       "    <tr>\n",
       "      <th>75%</th>\n",
       "      <td>-73.966961</td>\n",
       "      <td>40.767696</td>\n",
       "      <td>-73.963634</td>\n",
       "      <td>40.768164</td>\n",
       "      <td>2.000000</td>\n",
       "    </tr>\n",
       "    <tr>\n",
       "      <th>max</th>\n",
       "      <td>40.766125</td>\n",
       "      <td>401.083332</td>\n",
       "      <td>40.802437</td>\n",
       "      <td>41.366138</td>\n",
       "      <td>6.000000</td>\n",
       "    </tr>\n",
       "  </tbody>\n",
       "</table>\n",
       "</div>"
      ],
      "text/plain": [
       "       pickup_longitude  pickup_latitude  dropoff_longitude  dropoff_latitude  \\\n",
       "count       9914.000000      9914.000000        9914.000000       9914.000000   \n",
       "mean         -72.453558        39.913186         -72.461136         39.885780   \n",
       "std           10.654715         7.350194          10.624606          6.366846   \n",
       "min          -74.438233       -74.006893         -74.429332        -73.994392   \n",
       "25%          -73.992056        40.734516         -73.991112         40.735169   \n",
       "50%          -73.981768        40.752633         -73.980107         40.753685   \n",
       "75%          -73.966961        40.767696         -73.963634         40.768164   \n",
       "max           40.766125       401.083332          40.802437         41.366138   \n",
       "\n",
       "       passenger_count  \n",
       "count      9914.000000  \n",
       "mean          1.645552  \n",
       "std           1.272293  \n",
       "min           0.000000  \n",
       "25%           1.000000  \n",
       "50%           1.000000  \n",
       "75%           2.000000  \n",
       "max           6.000000  "
      ]
     },
     "execution_count": 59,
     "metadata": {},
     "output_type": "execute_result"
    }
   ],
   "source": [
    "X.describe()"
   ]
  },
  {
   "cell_type": "code",
   "execution_count": 58,
   "metadata": {},
   "outputs": [
    {
     "data": {
      "text/plain": [
       "pickup_longitude     8911\n",
       "pickup_latitude      9133\n",
       "dropoff_longitude    8950\n",
       "dropoff_latitude     9135\n",
       "passenger_count         7\n",
       "dtype: int64"
      ]
     },
     "execution_count": 58,
     "metadata": {},
     "output_type": "execute_result"
    }
   ],
   "source": [
    "X.nunique()"
   ]
  },
  {
   "cell_type": "code",
   "execution_count": 8,
   "metadata": {},
   "outputs": [],
   "source": [
    "# Clean the training data set.\n",
    "X.dropna(axis=0, subset=['fare_amount'], inplace=True)\n",
    "y = X.fare_amount\n",
    "X.drop(['fare_amount'], axis=1, inplace=True)\n",
    "X.drop(['pickup_datetime'], axis=1, inplace=True)"
   ]
  },
  {
   "cell_type": "markdown",
   "metadata": {},
   "source": [
    "## Split Data\n",
    "Split data between training data and validation data."
   ]
  },
  {
   "cell_type": "code",
   "execution_count": 10,
   "metadata": {},
   "outputs": [],
   "source": [
    "#Split training data\n",
    "X_train, X_valid, y_train, y_valid = train_test_split(X, y, random_state = 0)"
   ]
  },
  {
   "cell_type": "markdown",
   "metadata": {},
   "source": [
    "## Create imputer\n",
    "Remove null values by incorporating an imputer based on averages."
   ]
  },
  {
   "cell_type": "code",
   "execution_count": 11,
   "metadata": {},
   "outputs": [],
   "source": [
    "# Establish Imputer\n",
    "my_imputer = SimpleImputer()\n",
    "imputed_X_train = pd.DataFrame(my_imputer.fit_transform(X_train))\n",
    "imputed_X_valid = pd.DataFrame(my_imputer.transform(X_valid))\n",
    "\n",
    "# Do not distrupt original data\n",
    "imputed_X_train.columns = X_train.columns\n",
    "imputed_X_valid.columns = X_valid.columns"
   ]
  },
  {
   "cell_type": "markdown",
   "metadata": {},
   "source": [
    "## Score Model\n",
    "Use mean absolute error, mean squared error, coefficient of determination, and cross validation to define the accuracy in predicting New York taxi fares with a random forest regressor."
   ]
  },
  {
   "cell_type": "code",
   "execution_count": 12,
   "metadata": {},
   "outputs": [],
   "source": [
    "# Function for comparing different approaches in finding model accuracy\n",
    "def get_score(X_train, X_valid, y_train, y_valid, n_estimators, n_metric):\n",
    "    model = RandomForestRegressor(n_estimators=n_estimators, random_state=0)\n",
    "    model.fit(X_train, y_train)\n",
    "    preds = model.predict(X_valid)\n",
    "    return n_metric(y_valid, preds)"
   ]
  },
  {
   "cell_type": "markdown",
   "metadata": {},
   "source": [
    "## Mean Absolute Error\n",
    "Calculate the mean absolute error of each taxi fare prediction."
   ]
  },
  {
   "cell_type": "code",
   "execution_count": 13,
   "metadata": {},
   "outputs": [
    {
     "name": "stdout",
     "output_type": "stream",
     "text": [
      "mean absolute error:  {50: 2.42311205604401, 100: 2.4111230937790924, 150: 2.3997982968901947, 200: 2.398506318387867, 250: 2.39601141597865, 300: 2.3919653130410086, 350: 2.39361095121008, 400: 2.3942390407507044}\n"
     ]
    }
   ],
   "source": [
    "results_mae = {}\n",
    "for i in range(1, 9):\n",
    "    results_mae[50*i] = get_score(imputed_X_train, imputed_X_valid, y_train, y_valid, 50*i, mean_absolute_error)\n",
    "print(\"mean absolute error: \", results_mae)"
   ]
  },
  {
   "cell_type": "code",
   "execution_count": 14,
   "metadata": {},
   "outputs": [
    {
     "data": {
      "image/png": "[encoded data removed]",
      "text/plain": [
       "<Figure size 432x288 with 1 Axes>"
      ]
     },
     "metadata": {
      "needs_background": "light"
     },
     "output_type": "display_data"
    }
   ],
   "source": [
    "plt.plot(list(results_mae.keys()), list(results_mae.values()))\n",
    "plt.xlabel('Estimators')\n",
    "plt.ylabel('MAE')\n",
    "plt.title('Mean Absolute Error')\n",
    "plt.show()"
   ]
  },
  {
   "cell_type": "code",
   "execution_count": 15,
   "metadata": {},
   "outputs": [
    {
     "name": "stdout",
     "output_type": "stream",
     "text": [
      "Best number of estimators:  300\n",
      "Mean Absolute Error:  2.3919653130410086\n"
     ]
    }
   ],
   "source": [
    "print(\"Best number of estimators: \", min(results_mae, key = results_mae.get))\n",
    "print(\"Mean Absolute Error: \", results_mae[min(results_mae, key = results_mae.get)])"
   ]
  },
  {
   "cell_type": "markdown",
   "metadata": {},
   "source": [
    "## Mean Squared Error\n",
    "Calculate the mean squared error of the model predictions with a Random Forest Regressor. Average the square of the errors"
   ]
  },
  {
   "cell_type": "code",
   "execution_count": 16,
   "metadata": {},
   "outputs": [
    {
     "name": "stdout",
     "output_type": "stream",
     "text": [
      "accuracy:  {50: 21.878498012164783, 100: 21.88230349265441, 150: 21.416512868149624, 200: 21.306364744115935, 250: 21.291875094077835, 300: 21.066480491215756, 350: 21.105234480202462, 400: 21.11752529341994}\n"
     ]
    }
   ],
   "source": [
    "results_mse = {}\n",
    "for i in range(1, 9):\n",
    "    results_mse[50*i] = get_score(imputed_X_train, imputed_X_valid, y_train, y_valid, 50*i, mean_squared_error)\n",
    "print(\"accuracy: \", results_mse)"
   ]
  },
  {
   "cell_type": "code",
   "execution_count": 17,
   "metadata": {},
   "outputs": [
    {
     "data": {
      "image/png": "[encoded data removed]",
      "text/plain": [
       "<Figure size 432x288 with 1 Axes>"
      ]
     },
     "metadata": {
      "needs_background": "light"
     },
     "output_type": "display_data"
    }
   ],
   "source": [
    "plt.plot(list(results_mse.keys()), list(results_mse.values()))\n",
    "plt.xlabel('Estimators')\n",
    "plt.ylabel('MSE')\n",
    "plt.title('Model Accuracy')\n",
    "plt.show()"
   ]
  },
  {
   "cell_type": "code",
   "execution_count": 18,
   "metadata": {},
   "outputs": [
    {
     "name": "stdout",
     "output_type": "stream",
     "text": [
      "Best number of estimators:  300\n",
      "Accuracy:  21.066480491215756\n"
     ]
    }
   ],
   "source": [
    "print(\"Best number of estimators: \", min(results_mse, key = results_mse.get))\n",
    "print(\"Accuracy: \", results_mse[min(results_mse, key = results_mse.get)])"
   ]
  },
  {
   "cell_type": "markdown",
   "metadata": {},
   "source": [
    "## R^2: coefficient of determination\n",
    "Measure the strength of the relationship between your the random forest regressor model and the taxi fare amounts."
   ]
  },
  {
   "cell_type": "code",
   "execution_count": 19,
   "metadata": {},
   "outputs": [
    {
     "name": "stdout",
     "output_type": "stream",
     "text": [
      "accuracy:  {50: 0.737730126892592, 100: 0.7376845084555048, 150: 0.7432682029081846, 200: 0.7445886104835708, 250: 0.7447623060761455, 300: 0.7474642380761787, 350: 0.7469996721919805, 400: 0.746852335294304}\n"
     ]
    }
   ],
   "source": [
    "results_r2 = {}\n",
    "for i in range(1, 9):\n",
    "    results_r2[50*i] = get_score(imputed_X_train, imputed_X_valid, y_train, y_valid, 50*i, r2_score)\n",
    "print(\"accuracy: \", results_r2)"
   ]
  },
  {
   "cell_type": "code",
   "execution_count": 20,
   "metadata": {},
   "outputs": [
    {
     "data": {
      "image/png": "[encoded data removed]",
      "text/plain": [
       "<Figure size 432x288 with 1 Axes>"
      ]
     },
     "metadata": {
      "needs_background": "light"
     },
     "output_type": "display_data"
    }
   ],
   "source": [
    "plt.plot(list(results_r2.keys()), list(results_r2.values()))\n",
    "plt.xlabel('Estimators')\n",
    "plt.ylabel('R^2')\n",
    "plt.title('Model Accuracy')\n",
    "plt.show()"
   ]
  },
  {
   "cell_type": "code",
   "execution_count": 21,
   "metadata": {},
   "outputs": [
    {
     "name": "stdout",
     "output_type": "stream",
     "text": [
      "Best number of estimators:  300\n",
      "Accuracy:  0.7474642380761787\n"
     ]
    }
   ],
   "source": [
    "print(\"Best number of estimators: \", max(results_r2, key = results_r2.get))\n",
    "print(\"Accuracy: \", results_r2[max(results_r2, key = results_r2.get)])"
   ]
  },
  {
   "cell_type": "markdown",
   "metadata": {},
   "source": [
    "## Cross Validation Test\n",
    "Get the Cross Validation Score of the model using a different number of folds each time to break up the data. Use 150 estimators because the graphs above determined the number returned the most accurate results."
   ]
  },
  {
   "cell_type": "code",
   "execution_count": 22,
   "metadata": {},
   "outputs": [],
   "source": [
    "def score_cross_val(n_folds):\n",
    "    model = RandomForestRegressor(n_estimators=150, random_state=0)\n",
    "    cross = -1 * cross_val_score(model, imputed_X_train, y_train, cv=n_folds, scoring=\"neg_mean_absolute_error\").mean()\n",
    "    return cross\n",
    "\n",
    "#print(cross)"
   ]
  },
  {
   "cell_type": "code",
   "execution_count": 23,
   "metadata": {},
   "outputs": [
    {
     "name": "stdout",
     "output_type": "stream",
     "text": [
      "Cross Validation Score:  {2: 2.492414668130814, 3: 2.492288737211973, 4: 2.4552274270681793, 5: 2.458711902679993, 6: 2.457546173664176, 7: 2.4593385382967723, 8: 2.4454350528669666}\n"
     ]
    }
   ],
   "source": [
    "results_cross = {}\n",
    "for i in range(2, 9):\n",
    "    results_cross[i] = score_cross_val(i)\n",
    "print(\"Cross Validation Score: \", results_cross)"
   ]
  },
  {
   "cell_type": "code",
   "execution_count": 24,
   "metadata": {},
   "outputs": [
    {
     "data": {
      "image/png": "[encoded data removed]",
      "text/plain": [
       "<Figure size 432x288 with 1 Axes>"
      ]
     },
     "metadata": {
      "needs_background": "light"
     },
     "output_type": "display_data"
    }
   ],
   "source": [
    "plt.plot(list(results_cross.keys()), list(results_cross.values()))\n",
    "plt.xlabel('Folds')\n",
    "plt.ylabel('Average Cross Validation Score')\n",
    "plt.title('Cross Validation')\n",
    "plt.show()"
   ]
  },
  {
   "cell_type": "code",
   "execution_count": 25,
   "metadata": {},
   "outputs": [
    {
     "name": "stdout",
     "output_type": "stream",
     "text": [
      "Best number of folds:  8\n",
      "Mean Absolute eror:  2.4454350528669666\n"
     ]
    }
   ],
   "source": [
    "print(\"Best number of folds: \", min(results_cross, key = results_cross.get))\n",
    "print(\"Mean Absolute eror: \", results_cross[min(results_cross, key = results_cross.get)])"
   ]
  },
  {
   "cell_type": "markdown",
   "metadata": {},
   "source": [
    "## Test Data"
   ]
  },
  {
   "cell_type": "code",
   "execution_count": 56,
   "metadata": {},
   "outputs": [],
   "source": [
    "#preprocess test data\n",
    "X_test, X_valid_test, y_train_test, y_valid_test = train_test_split(X, y, random_state = 0)\n",
    "imputed_X_valid_test = pd.DataFrame(my_imputer.transform(X_valid_test))\n",
    "imputed_X_valid_test.columns = X_test.columns"
   ]
  },
  {
   "cell_type": "code",
   "execution_count": 37,
   "metadata": {},
   "outputs": [
    {
     "name": "stdout",
     "output_type": "stream",
     "text": [
      "          key   fare\n",
      "0     58:00.0   9.56\n",
      "1     25:00.0  20.34\n",
      "2     35:00.0   8.00\n",
      "3     10:46.0  11.26\n",
      "4     54:56.0  22.71\n",
      "...       ...    ...\n",
      "2474  12:21.0   5.94\n",
      "2475  19:00.0  12.03\n",
      "2476  43:00.0   5.60\n",
      "2477  42:00.0  15.61\n",
      "2478  37:00.0   5.28\n",
      "\n",
      "[2479 rows x 2 columns]\n"
     ]
    }
   ],
   "source": [
    "output = pd.DataFrame({'key': X_valid_test.index,\n",
    "                       'fare': preds_test.round(2)})\n",
    "print(output)\n",
    "output.to_csv('submission.csv', index=False)"
   ]
  },
  {
   "cell_type": "markdown",
   "metadata": {},
   "source": [
    "## Score Test Data\n",
    "Use the mean absolute error, mean squared error, and coefficient of determination to find the accuracy of the random forest regressor in predict new york taxi fare amounts."
   ]
  },
  {
   "cell_type": "code",
   "execution_count": 38,
   "metadata": {},
   "outputs": [],
   "source": [
    "def get_score_test(X_valid, y_train, y_valid, n_estimators, n_metric):\n",
    "    model = RandomForestRegressor(n_estimators = n_estimators, random_state = 1)\n",
    "    model.fit(imputed_X_train, y_train)\n",
    "    preds_test = model.predict(imputed_X_valid_test)\n",
    "    return n_metric(y_valid, preds_test)"
   ]
  },
  {
   "cell_type": "code",
   "execution_count": 57,
   "metadata": {},
   "outputs": [
    {
     "name": "stdout",
     "output_type": "stream",
     "text": [
      "mean absolute error:  {50: 2.4323775851484575, 100: 2.415297841991548, 150: 2.406934332081905, 200: 2.4012454185414467, 250: 2.3948802916879277, 300: 2.394672908359615, 350: 2.392729144491434, 400: 2.3929570547082766}\n"
     ]
    }
   ],
   "source": [
    "results_mae_test = {}\n",
    "\n",
    "for i in range(1, 9):\n",
    "    results_mae_test[50*i] = get_score_test(imputed_X_valid_test, y_train, y_valid, 50*i, mean_absolute_error)\n",
    "print(\"mean absolute error: \", results_mae_test)"
   ]
  },
  {
   "cell_type": "code",
   "execution_count": 44,
   "metadata": {},
   "outputs": [
    {
     "name": "stdout",
     "output_type": "stream",
     "text": [
      "mean absolute error:  {50: 21.497495795389046, 100: 21.455857980553372, 150: 21.132945008934943, 200: 21.122018010878556, 250: 20.99081446095308, 300: 21.033376240632975, 350: 21.002202123156383, 400: 21.01463951824932}\n"
     ]
    }
   ],
   "source": [
    "results_mse_test = {}\n",
    "\n",
    "for i in range(1, 9):\n",
    "    results_mse_test[50*i] = get_score_test(imputed_X_valid_test, y_train, y_valid, 50*i, mean_squared_error)\n",
    "print(\"mean absolute error: \", results_mse_test)"
   ]
  },
  {
   "cell_type": "code",
   "execution_count": 46,
   "metadata": {},
   "outputs": [
    {
     "name": "stdout",
     "output_type": "stream",
     "text": [
      "mean absolute error:  {50: 0.7422974149665654, 100: 0.7427965508947882, 150: 0.7466674904832377, 200: 0.7467984785607602, 250: 0.7483712893803632, 300: 0.7478610773653673, 350: 0.748234779062361, 400: 0.7480856850052189}\n"
     ]
    }
   ],
   "source": [
    "results_r2_test = {}\n",
    "\n",
    "for i in range(1, 9):\n",
    "    results_r2_test[50*i] = get_score_test(imputed_X_valid_test, y_train, y_valid, 50*i, r2_score)\n",
    "print(\"mean absolute error: \", results_r2_test)"
   ]
  },
  {
   "cell_type": "code",
   "execution_count": 47,
   "metadata": {},
   "outputs": [
    {
     "name": "stdout",
     "output_type": "stream",
     "text": [
      "Best number of estimators:  350\n",
      "Mean Absolute Error:  2.392729144491434\n"
     ]
    }
   ],
   "source": [
    "print(\"Best number of estimators: \", min(results_mae_test, key = results_mae_test.get))\n",
    "print(\"Mean Absolute Error: \", results_mae_test[min(results_mae_test, key = results_mae_test.get)])"
   ]
  },
  {
   "cell_type": "code",
   "execution_count": 48,
   "metadata": {},
   "outputs": [
    {
     "name": "stdout",
     "output_type": "stream",
     "text": [
      "Best number of estimators:  250\n",
      "Mean Squared Error:  20.99081446095308\n"
     ]
    }
   ],
   "source": [
    "print(\"Best number of estimators: \", min(results_mse_test, key = results_mse_test.get))\n",
    "print(\"Mean Squared Error: \", results_mse_test[min(results_mse_test, key = results_mse_test.get)])"
   ]
  },
  {
   "cell_type": "code",
   "execution_count": 49,
   "metadata": {},
   "outputs": [
    {
     "name": "stdout",
     "output_type": "stream",
     "text": [
      "Best number of estimators:  50\n",
      "R^2:  0.7422974149665654\n"
     ]
    }
   ],
   "source": [
    "print(\"Best number of estimators: \", min(results_r2_test, key = results_r2_test.get))\n",
    "print(\"R^2: \", results_r2_test[min(results_r2_test, key = results_r2_test.get)])"
   ]
  },
  {
   "cell_type": "markdown",
   "metadata": {},
   "source": [
    "## Compare Training and Test Data\n",
    "Compare the accuracy based on training data versus test data"
   ]
  },
  {
   "cell_type": "code",
   "execution_count": 53,
   "metadata": {},
   "outputs": [
    {
     "data": {
      "text/plain": [
       "<matplotlib.legend.Legend at 0xe4d0db0>"
      ]
     },
     "execution_count": 53,
     "metadata": {},
     "output_type": "execute_result"
    },
    {
     "data": {
      "image/png": "[encoded data removed]",
      "text/plain": [
       "<Figure size 432x288 with 1 Axes>"
      ]
     },
     "metadata": {
      "needs_background": "light"
     },
     "output_type": "display_data"
    }
   ],
   "source": [
    "x_cords = list(results_mae_test.keys())\n",
    "y1_cords = list(results_mae.values())\n",
    "y2_cords = list(results_mae_test.values())\n",
    "plt.plot(x_cords, y1_cords)\n",
    "plt.plot(x_cords, y2_cords)\n",
    "plt.title('Model accuracy Train vs Test (MAE)')\n",
    "plt.ylabel('MAE')\n",
    "plt.xlabel('Estimators')\n",
    "plt.legend(['Train', 'Test'], loc='upper left')"
   ]
  },
  {
   "cell_type": "code",
   "execution_count": 54,
   "metadata": {},
   "outputs": [
    {
     "data": {
      "text/plain": [
       "<matplotlib.legend.Legend at 0xf984750>"
      ]
     },
     "execution_count": 54,
     "metadata": {},
     "output_type": "execute_result"
    },
    {
     "data": {
      "image/png": "[encoded data removed]",
      "text/plain": [
       "<Figure size 432x288 with 1 Axes>"
      ]
     },
     "metadata": {
      "needs_background": "light"
     },
     "output_type": "display_data"
    }
   ],
   "source": [
    "x_cords = list(results_mse_test.keys())\n",
    "y1_cords = list(results_mse.values())\n",
    "y2_cords = list(results_mse_test.values())\n",
    "plt.plot(x_cords, y1_cords)\n",
    "plt.plot(x_cords, y2_cords)\n",
    "plt.title('Model accuracy Train vs Test (MSE)')\n",
    "plt.ylabel('MSE')\n",
    "plt.xlabel('Estimators')\n",
    "plt.legend(['Train', 'Test'], loc='upper left')"
   ]
  },
  {
   "cell_type": "code",
   "execution_count": 55,
   "metadata": {},
   "outputs": [
    {
     "data": {
      "text/plain": [
       "<matplotlib.legend.Legend at 0xf9c94b0>"
      ]
     },
     "execution_count": 55,
     "metadata": {},
     "output_type": "execute_result"
    },
    {
     "data": {
      "image/png": "[encoded data removed]",
      "text/plain": [
       "<Figure size 432x288 with 1 Axes>"
      ]
     },
     "metadata": {
      "needs_background": "light"
     },
     "output_type": "display_data"
    }
   ],
   "source": [
    "x_cords = list(results_r2_test.keys())\n",
    "y1_cords = list(results_r2.values())\n",
    "y2_cords = list(results_r2_test.values())\n",
    "plt.plot(x_cords, y1_cords)\n",
    "plt.plot(x_cords, y2_cords)\n",
    "plt.title('Model accuracy Train vs Test (R^2)')\n",
    "plt.ylabel('R^2')\n",
    "plt.xlabel('Estimators')\n",
    "plt.legend(['Train', 'Test'], loc='upper left')"
   ]
  },
  {
   "cell_type": "code",
   "execution_count": null,
   "metadata": {},
   "outputs": [],
   "source": []
  }
 ],
 "metadata": {
  "kernelspec": {
   "display_name": "Python 3",
   "language": "python",
   "name": "python3"
  },
  "language_info": {
   "codemirror_mode": {
    "name": "ipython",
    "version": 3
   },
   "file_extension": ".py",
   "mimetype": "text/x-python",
   "name": "python",
   "nbconvert_exporter": "python",
   "pygments_lexer": "ipython3",
   "version": "3.7.6"
  }
 },
 "nbformat": 4,
 "nbformat_minor": 4
}
